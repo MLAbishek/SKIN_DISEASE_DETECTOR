{
 "cells": [
  {
   "cell_type": "code",
   "execution_count": 1,
   "metadata": {},
   "outputs": [],
   "source": [
    "import numpy as np\n",
    "import tensorflow as tf\n",
    "from tensorflow.keras.preprocessing.image import ImageDataGenerator "
   ]
  },
  {
   "cell_type": "code",
   "execution_count": 2,
   "metadata": {},
   "outputs": [
    {
     "name": "stdout",
     "output_type": "stream",
     "text": [
      "Found 7341 images belonging to 3 classes.\n"
     ]
    }
   ],
   "source": [
    "train_datagen=ImageDataGenerator(\n",
    "    rescale=1./255,\n",
    "    zoom_range=0.2,\n",
    "    shear_range=0.2,\n",
    "    horizontal_flip=True\n",
    ")\n",
    "training_set=train_datagen.flow_from_directory(\n",
    "    r'D:\\programming\\models\\projectfest\\skin-lesions\\train',\n",
    "    batch_size=32,\n",
    "    target_size=(64,64),\n",
    "    class_mode='categorical'\n",
    ")"
   ]
  },
  {
   "cell_type": "code",
   "execution_count": 3,
   "metadata": {},
   "outputs": [
    {
     "name": "stdout",
     "output_type": "stream",
     "text": [
      "Found 2381 images belonging to 3 classes.\n"
     ]
    }
   ],
   "source": [
    "test_datagen=ImageDataGenerator(\n",
    "    rescale=1./255,\n",
    ")\n",
    "test_set=test_datagen.flow_from_directory(\n",
    "    r'D:\\programming\\models\\projectfest\\skin-lesions\\test',\n",
    "    target_size=(64,64),\n",
    "    batch_size=32,\n",
    "    class_mode='categorical'\n",
    ")"
   ]
  },
  {
   "cell_type": "code",
   "execution_count": 4,
   "metadata": {},
   "outputs": [
    {
     "data": {
      "text/plain": [
       "{'melanoma': 0, 'nevus': 1, 'seborrheic_keratosis': 2}"
      ]
     },
     "execution_count": 4,
     "metadata": {},
     "output_type": "execute_result"
    }
   ],
   "source": [
    "training_set.class_indices"
   ]
  },
  {
   "cell_type": "code",
   "execution_count": 5,
   "metadata": {},
   "outputs": [
    {
     "name": "stdout",
     "output_type": "stream",
     "text": [
      "Epoch 1/20\n",
      "230/230 [==============================] - 257s 1s/step - loss: 0.4857 - accuracy: 0.8123 - val_loss: 0.3839 - val_accuracy: 0.8454\n",
      "Epoch 2/20\n",
      "230/230 [==============================] - 173s 752ms/step - loss: 0.3483 - accuracy: 0.8741 - val_loss: 0.3571 - val_accuracy: 0.8576\n",
      "Epoch 3/20\n",
      "230/230 [==============================] - 175s 763ms/step - loss: 0.3470 - accuracy: 0.8665 - val_loss: 0.4387 - val_accuracy: 0.8337\n",
      "Epoch 4/20\n",
      "230/230 [==============================] - 174s 756ms/step - loss: 0.3253 - accuracy: 0.8730 - val_loss: 0.3812 - val_accuracy: 0.8538\n",
      "Epoch 5/20\n",
      "230/230 [==============================] - 173s 754ms/step - loss: 0.2991 - accuracy: 0.8843 - val_loss: 0.2955 - val_accuracy: 0.8774\n",
      "Epoch 6/20\n",
      "230/230 [==============================] - 176s 767ms/step - loss: 0.3067 - accuracy: 0.8812 - val_loss: 0.2850 - val_accuracy: 0.8904\n",
      "Epoch 7/20\n",
      "230/230 [==============================] - 173s 750ms/step - loss: 0.2836 - accuracy: 0.8898 - val_loss: 0.3365 - val_accuracy: 0.8774\n",
      "Epoch 8/20\n",
      "230/230 [==============================] - 303s 1s/step - loss: 0.2818 - accuracy: 0.8867 - val_loss: 0.2800 - val_accuracy: 0.8845\n",
      "Epoch 9/20\n",
      "230/230 [==============================] - 206s 900ms/step - loss: 0.2742 - accuracy: 0.8920 - val_loss: 0.2706 - val_accuracy: 0.8866\n",
      "Epoch 10/20\n",
      "230/230 [==============================] - 223s 970ms/step - loss: 0.2681 - accuracy: 0.8928 - val_loss: 0.2681 - val_accuracy: 0.8946\n",
      "Epoch 11/20\n",
      "230/230 [==============================] - 384s 2s/step - loss: 0.2609 - accuracy: 0.8954 - val_loss: 0.2637 - val_accuracy: 0.8984\n",
      "Epoch 12/20\n",
      "230/230 [==============================] - 179s 779ms/step - loss: 0.2563 - accuracy: 0.8988 - val_loss: 0.2673 - val_accuracy: 0.8967\n",
      "Epoch 13/20\n",
      "230/230 [==============================] - 320s 1s/step - loss: 0.2533 - accuracy: 0.8982 - val_loss: 0.2674 - val_accuracy: 0.8963\n",
      "Epoch 14/20\n",
      "230/230 [==============================] - 318s 1s/step - loss: 0.2381 - accuracy: 0.9053 - val_loss: 0.2684 - val_accuracy: 0.8954\n",
      "Epoch 15/20\n",
      "230/230 [==============================] - 350s 2s/step - loss: 0.2420 - accuracy: 0.9057 - val_loss: 0.2524 - val_accuracy: 0.8984\n",
      "Epoch 16/20\n",
      "230/230 [==============================] - 407s 2s/step - loss: 0.2430 - accuracy: 0.9053 - val_loss: 0.2689 - val_accuracy: 0.8925\n",
      "Epoch 17/20\n",
      "230/230 [==============================] - 221s 963ms/step - loss: 0.2282 - accuracy: 0.9101 - val_loss: 0.2510 - val_accuracy: 0.8992\n",
      "Epoch 18/20\n",
      "230/230 [==============================] - 174s 757ms/step - loss: 0.2233 - accuracy: 0.9100 - val_loss: 0.2618 - val_accuracy: 0.9000\n",
      "Epoch 19/20\n",
      "230/230 [==============================] - 172s 748ms/step - loss: 0.2357 - accuracy: 0.9053 - val_loss: 0.2534 - val_accuracy: 0.8979\n",
      "Epoch 20/20\n",
      "230/230 [==============================] - 172s 749ms/step - loss: 0.2231 - accuracy: 0.9071 - val_loss: 0.2592 - val_accuracy: 0.8988\n"
     ]
    },
    {
     "data": {
      "text/plain": [
       "<keras.callbacks.History at 0x20051768b50>"
      ]
     },
     "execution_count": 5,
     "metadata": {},
     "output_type": "execute_result"
    }
   ],
   "source": [
    "cnn=tf.keras.models.Sequential()\n",
    "cnn.add(tf.keras.layers.Conv2D(filters=64,kernel_size=3,activation='relu',input_shape=[64,64,3]))\n",
    "cnn.add(tf.keras.layers.MaxPool2D(pool_size=2,strides=2))\n",
    "cnn.add(tf.keras.layers.Conv2D(filters=64,kernel_size=4,activation='relu'))\n",
    "cnn.add(tf.keras.layers.MaxPool2D(pool_size=2,strides=2))\n",
    "cnn.add(tf.keras.layers.Flatten())\n",
    "cnn.add(tf.keras.layers.Dense(units=150,activation='relu'))\n",
    "cnn.add(tf.keras.layers.Dense(units=3,activation='softmax'))\n",
    "cnn.compile(optimizer='adam',loss='categorical_crossentropy',metrics=['accuracy'])\n",
    "cnn.fit(x=training_set,validation_data=test_set,epochs=20)"
   ]
  },
  {
   "cell_type": "code",
   "execution_count": 6,
   "metadata": {},
   "outputs": [],
   "source": [
    "cnn.save('melanoma_v3.h5')"
   ]
  }
 ],
 "metadata": {
  "kernelspec": {
   "display_name": "py310",
   "language": "python",
   "name": "python3"
  },
  "language_info": {
   "codemirror_mode": {
    "name": "ipython",
    "version": 3
   },
   "file_extension": ".py",
   "mimetype": "text/x-python",
   "name": "python",
   "nbconvert_exporter": "python",
   "pygments_lexer": "ipython3",
   "version": "3.10.14"
  }
 },
 "nbformat": 4,
 "nbformat_minor": 2
}
