{
 "cells": [
  {
   "cell_type": "code",
   "execution_count": 1,
   "metadata": {},
   "outputs": [],
   "source": [
    "import numpy as np \n",
    "import tensorflow as tf \n",
    "from keras.preprocessing.image import ImageDataGenerator"
   ]
  },
  {
   "cell_type": "code",
   "execution_count": 3,
   "metadata": {},
   "outputs": [
    {
     "name": "stdout",
     "output_type": "stream",
     "text": [
      "Found 3377 images belonging to 2 classes.\n"
     ]
    }
   ],
   "source": [
    "image_datagen=ImageDataGenerator(\n",
    "    zoom_range=0.2,\n",
    "    shear_range=0.2,\n",
    "    horizontal_flip=True,\n",
    "    rescale=1./255\n",
    "\n",
    ")\n",
    "training_set=image_datagen.flow_from_directory(\n",
    "    r\"D:\\programming\\models\\dataset\\image_class\\Skin_data_v2\\train\",\n",
    "    batch_size=32,\n",
    "    target_size=(64,64),\n",
    "    class_mode='binary'\n",
    ")"
   ]
  },
  {
   "cell_type": "code",
   "execution_count": 4,
   "metadata": {},
   "outputs": [
    {
     "name": "stdout",
     "output_type": "stream",
     "text": [
      "Found 374 images belonging to 2 classes.\n"
     ]
    }
   ],
   "source": [
    "test_datagen=ImageDataGenerator(\n",
    "    rescale=1./255\n",
    ")\n",
    "test_set=image_datagen.flow_from_directory(\n",
    "    r'D:\\programming\\models\\dataset\\image_class\\Skin_data_v2\\test',\n",
    "    target_size=(64,64),\n",
    "    batch_size=32,\n",
    "    class_mode='binary')\n"
   ]
  },
  {
   "cell_type": "code",
   "execution_count": 5,
   "metadata": {},
   "outputs": [],
   "source": [
    "cnn=tf.keras.models.Sequential()\n",
    "cnn.add(tf.keras.layers.Conv2D(activation='relu',filters=32,kernel_size=3,input_shape=[64,64,3]))\n",
    "cnn.add(tf.keras.layers.MaxPool2D(pool_size=2,strides=1))\n",
    "cnn.add(tf.keras.layers.Conv2D(activation='relu',filters=32,kernel_size=3))\n",
    "cnn.add(tf.keras.layers.MaxPool2D(pool_size=2,strides=1))\n",
    "cnn.add(tf.keras.layers.Flatten())\n"
   ]
  },
  {
   "cell_type": "code",
   "execution_count": 6,
   "metadata": {},
   "outputs": [],
   "source": [
    "cnn.add(tf.keras.layers.Dense(units=100,activation='relu'))\n",
    "cnn.add(tf.keras.layers.Dense(units=120,activation='relu'))\n",
    "cnn.add(tf.keras.layers.Dense(units=1,activation='sigmoid'))\n",
    "cnn.compile(optimizer='adam',loss='binary_crossentropy',metrics=[['accuracy']])\n"
   ]
  },
  {
   "cell_type": "code",
   "execution_count": 7,
   "metadata": {},
   "outputs": [
    {
     "name": "stdout",
     "output_type": "stream",
     "text": [
      "Epoch 1/10\n",
      "106/106 [==============================] - 115s 969ms/step - loss: 0.2033 - accuracy: 0.9245 - val_loss: 0.1915 - val_accuracy: 0.9305\n",
      "Epoch 2/10\n",
      "106/106 [==============================] - 10s 99ms/step - loss: 0.0494 - accuracy: 0.9846 - val_loss: 0.0440 - val_accuracy: 0.9840\n",
      "Epoch 3/10\n",
      "106/106 [==============================] - 9s 85ms/step - loss: 0.0254 - accuracy: 0.9905 - val_loss: 0.0296 - val_accuracy: 0.9893\n",
      "Epoch 4/10\n",
      "106/106 [==============================] - 9s 84ms/step - loss: 0.0239 - accuracy: 0.9926 - val_loss: 0.0721 - val_accuracy: 0.9786\n",
      "Epoch 5/10\n",
      "106/106 [==============================] - 9s 84ms/step - loss: 0.0339 - accuracy: 0.9890 - val_loss: 0.0650 - val_accuracy: 0.9786\n",
      "Epoch 6/10\n",
      "106/106 [==============================] - 9s 84ms/step - loss: 0.0156 - accuracy: 0.9956 - val_loss: 0.0130 - val_accuracy: 0.9973\n",
      "Epoch 7/10\n",
      "106/106 [==============================] - 9s 85ms/step - loss: 0.0042 - accuracy: 0.9988 - val_loss: 0.0015 - val_accuracy: 1.0000\n",
      "Epoch 8/10\n",
      "106/106 [==============================] - 9s 85ms/step - loss: 0.0016 - accuracy: 0.9994 - val_loss: 0.0019 - val_accuracy: 1.0000\n",
      "Epoch 9/10\n",
      "106/106 [==============================] - 9s 87ms/step - loss: 0.0455 - accuracy: 0.9852 - val_loss: 0.0243 - val_accuracy: 0.9920\n",
      "Epoch 10/10\n",
      "106/106 [==============================] - 9s 85ms/step - loss: 0.0217 - accuracy: 0.9953 - val_loss: 0.0108 - val_accuracy: 0.9947\n"
     ]
    }
   ],
   "source": [
    "ans=cnn.fit(training_set,validation_data=test_set,epochs=10)"
   ]
  },
  {
   "cell_type": "code",
   "execution_count": 8,
   "metadata": {},
   "outputs": [
    {
     "data": {
      "text/plain": [
       "{'melanoma': 0, 'normal': 1}"
      ]
     },
     "execution_count": 8,
     "metadata": {},
     "output_type": "execute_result"
    }
   ],
   "source": [
    "training_set.class_indices"
   ]
  },
  {
   "cell_type": "code",
   "execution_count": null,
   "metadata": {},
   "outputs": [],
   "source": [
    "#cnn.save(\"punnu_detector_v2.h5\")"
   ]
  },
  {
   "cell_type": "code",
   "execution_count": 13,
   "metadata": {},
   "outputs": [
    {
     "name": "stdout",
     "output_type": "stream",
     "text": [
      "1/1 [==============================] - 0s 16ms/step\n",
      "issue\n"
     ]
    }
   ],
   "source": [
    "from keras.utils import load_img,img_to_array\n",
    "test_image=load_img(r'D:\\programming\\models\\projectfest\\skin-lesions\\train\\melanoma\\ISIC_0000156.jpg',target_size=(64,64))\n",
    "test_image=img_to_array(test_image)\n",
    "test_image=np.expand_dims(test_image,axis=0)\n",
    "result=cnn.predict(test_image)\n",
    "if result[0][0]==0:\n",
    "    print('issue')\n",
    "else:\n",
    "    print(\"normal\")"
   ]
  },
  {
   "cell_type": "code",
   "execution_count": 15,
   "metadata": {},
   "outputs": [],
   "source": [
    "cnn.save(\"punnu_detector_v3.h5\")"
   ]
  },
  {
   "cell_type": "code",
   "execution_count": null,
   "metadata": {},
   "outputs": [
    {
     "name": "stdout",
     "output_type": "stream",
     "text": [
      "1/1 [==============================] - 0s 19ms/step\n",
      "cancer\n"
     ]
    }
   ],
   "source": [
    "from keras.utils import load_img,img_to_array\n",
    "test_image=load_img(r'D:\\programming\\models\\projectfest\\skin-lesions\\valid\\melanoma\\ISIC_0013232.jpg',target_size=(64,64))\n",
    "test_image=img_to_array(test_image)\n",
    "test_image=np.expand_dims(test_image,axis=0)\n",
    "result=cnn.predict(test_image)\n",
    "if result[0][0]==0:\n",
    "    print('cancer')\n",
    "else:\n",
    "    print(\"not cancer\")"
   ]
  }
 ],
 "metadata": {
  "kernelspec": {
   "display_name": "Python 3",
   "language": "python",
   "name": "python3"
  },
  "language_info": {
   "codemirror_mode": {
    "name": "ipython",
    "version": 3
   },
   "file_extension": ".py",
   "mimetype": "text/x-python",
   "name": "python",
   "nbconvert_exporter": "python",
   "pygments_lexer": "ipython3",
   "version": "3.10.14"
  }
 },
 "nbformat": 4,
 "nbformat_minor": 2
}
